{
  "nbformat": 4,
  "nbformat_minor": 0,
  "metadata": {
    "colab": {
      "provenance": []
    },
    "kernelspec": {
      "name": "python3",
      "display_name": "Python 3"
    },
    "language_info": {
      "name": "python"
    }
  },
  "cells": [
    {
      "cell_type": "markdown",
      "source": [],
      "metadata": {
        "id": "KwRGKo37bE9H"
      }
    },
    {
      "cell_type": "markdown",
      "source": [
        "Input layer shape :Same shape as number of features\n",
        "Hidden layer(s) : Problem specific, minimum = 1, maximum = unlimited\n",
        "Neurons per hidden layer : 10 to 100 generally\n",
        "Output layer shape :same shape as desired prediction shape\n",
        "Hidden activation: ReLU\n",
        "Output activation: None ReLU,logistic\n",
        "Loss function: MSE MAE\n",
        "Optimizer: SGD Adam"
      ],
      "metadata": {
        "id": "qtwJU2_lbGO4"
      }
    },
    {
      "cell_type": "code",
      "source": [
        "# Create a model (specified to your problem)\n",
        "model = tf.keras.Sequential([\n",
        "    tf.keras.Input(shape=(3,)), # input layer shape\n",
        "    tf.keras.layers.Dense(100, activation=\"relu\");\n",
        "    tf.keras.layers.Dense(100, activation=\"relu\"); #100 neurons per hidden layer, relu hidden activation\n",
        "    tf.keras.layers.Dense(100, activation=\"relu\");\n",
        "    tf.keras.layers.Dense(1,activation=None) #1 output layer shape, activation output activation\n",
        "])"
      ],
      "metadata": {
        "id": "Bd-3SvkicLwJ"
      },
      "execution_count": null,
      "outputs": []
    },
    {
      "cell_type": "code",
      "source": [],
      "metadata": {
        "id": "iVAMKl3MiueR"
      },
      "execution_count": null,
      "outputs": []
    }
  ]
}